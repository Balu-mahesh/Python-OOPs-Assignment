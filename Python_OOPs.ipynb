{
  "nbformat": 4,
  "nbformat_minor": 0,
  "metadata": {
    "colab": {
      "provenance": []
    },
    "kernelspec": {
      "name": "python3",
      "display_name": "Python 3"
    },
    "language_info": {
      "name": "python"
    }
  },
  "cells": [
    {
      "cell_type": "markdown",
      "source": [
        "# **Python OOP's Theoretical Questions**"
      ],
      "metadata": {
        "id": "bHSMeJtwPo3b"
      }
    },
    {
      "cell_type": "markdown",
      "source": [
        "**Q1) What is Object-Oriented Programming (OOP)?**"
      ],
      "metadata": {
        "id": "xdPvv4ujQLI_"
      }
    },
    {
      "cell_type": "markdown",
      "source": [
        "- Object-Oriented Programming refers to languages that use objects in programming. It is concept based on \"objects\", which can contain data and code. The main goal of OOP is implement entities like inheritance, encapsulation, polymorphism etc in the programming in a structured and reusable way. The main aim of OOP to bind together the data and the functions that operate on them so that no other part of the code can access this data except that function."
      ],
      "metadata": {
        "id": "VmrexxaiTBbe"
      }
    },
    {
      "cell_type": "markdown",
      "source": [
        "**Q2) What is a class in OOP?**"
      ],
      "metadata": {
        "id": "cLifgq-uUWWD"
      }
    },
    {
      "cell_type": "markdown",
      "source": [
        "- A class is a collection of objects. In Object-Oriented Programming, a class is a blueprint or template for creating objects. A class defines a set of attributes and methods that the created objects can have. Classes promotes reusability, organization and abstraction in OOP. In Python class is created using the keyword \"class\". A class is a way to group related data and functions together so you can create multiple objects with similar structure and behavior."
      ],
      "metadata": {
        "id": "6TdEvvRTXpaH"
      }
    },
    {
      "cell_type": "markdown",
      "source": [
        "**Q3) What is an object in OOP?**"
      ],
      "metadata": {
        "id": "5Bu-hRECemDX"
      }
    },
    {
      "cell_type": "markdown",
      "source": [
        "- An object is a self-contained unit that combines attributes and functions that operate on that data. Object is basically an instance of a class, representing a specific entity within a program. It is a real-world entity that holds data and can perform actions defined by its class. If a class is like blueprint, an object is the actual thing built using that blueprint. Multiple objects can be created from a single class, each with different data. In Python, an object is created by calling a class as if it were a function. This process automatically invokes the class's __init__ method to initialize the object.\n"
      ],
      "metadata": {
        "id": "sf7EeiICeyQn"
      }
    },
    {
      "cell_type": "code",
      "source": [
        "# below is class Student that returns the student details.\n",
        "\n",
        "class Student:\n",
        "  def __init__(self,name,age,address):\n",
        "    self.name=name\n",
        "    self.age=age\n",
        "    self.address=address\n",
        "  def get_details(self):\n",
        "    return f\"The student name is {self.name}, age {self.age} and lives in {self.address}.\"\n",
        "\n",
        "s1= Student(\"Balu\",26,\"New Delhi\")  # making an object s1 which is related to class Student.\n",
        "s1.get_details()"
      ],
      "metadata": {
        "colab": {
          "base_uri": "https://localhost:8080/",
          "height": 36
        },
        "id": "ozVUvBAokgw5",
        "outputId": "395e1d9d-0d6c-4e79-9fed-df57db86e2fc"
      },
      "execution_count": null,
      "outputs": [
        {
          "output_type": "execute_result",
          "data": {
            "text/plain": [
              "'The student name is Balu, age 26 and lives in New Delhi.'"
            ],
            "application/vnd.google.colaboratory.intrinsic+json": {
              "type": "string"
            }
          },
          "metadata": {},
          "execution_count": 7
        }
      ]
    },
    {
      "cell_type": "markdown",
      "source": [
        "**Q4) What is the difference between abstraction and encapsulation?**"
      ],
      "metadata": {
        "id": "A-Rn3x55D8lB"
      }
    },
    {
      "cell_type": "markdown",
      "source": [
        "- Abstraction: Abstraction hides the complex implementation details of a object and presents a simplified view. It only shows the essential features of an object. It simplifies the interaction with an object by providing a high-level view of what the object does, without requiring knowledge of how it does it. In Python, abstraction can be achieved through abstract classes using the abc module, which define a common interface that concrete subclasses must implement.\n"
      ],
      "metadata": {
        "id": "t00wirYWE0Di"
      }
    },
    {
      "cell_type": "code",
      "source": [
        "# implementing abstraction\n",
        "\n",
        "from abc import ABC,abstractmethod\n",
        "\n",
        "class Animal(ABC):\n",
        "  @abstractmethod\n",
        "  def make_sound(self):\n",
        "    pass\n",
        "\n",
        "class Dog(Animal):\n",
        "  def make_sound(self):\n",
        "    print(\"I bark!\")\n",
        "\n",
        "dog = Dog()\n",
        "dog.make_sound()"
      ],
      "metadata": {
        "colab": {
          "base_uri": "https://localhost:8080/"
        },
        "id": "wvcAc35oHEYQ",
        "outputId": "529cd971-0805-47fc-ea1b-7afa6c477aa2"
      },
      "execution_count": null,
      "outputs": [
        {
          "output_type": "stream",
          "name": "stdout",
          "text": [
            "I bark!\n"
          ]
        }
      ]
    },
    {
      "cell_type": "markdown",
      "source": [
        "- Encapsulation: Encapsulation is the technique of bundling attributes and methods that operate on that data into a single unit, and restricting direct access to some of the object's components. It is focused on how the data is protected and accessed. Encapsulation protects the integrity of the data and controlling how it can be modified. In python, encapsulation can be achieved through conventions like using single underscore for protected members and double underscores for private members, signalling that they are intended for internal use within the class they are declared."
      ],
      "metadata": {
        "id": "tuXJ7UUWH3Wi"
      }
    },
    {
      "cell_type": "code",
      "source": [
        "# implementing encapsulation\n",
        "\n",
        "class Student:\n",
        "  def __init__(self,name,age):\n",
        "    self.name=name   # public attribute, accessed anywhere\n",
        "    self.__age=age   # private attribute , declared for internal use within the class\n",
        "\n",
        "  def set_age(self,age):\n",
        "    self.__age=age\n",
        "\n",
        "  def get_age(self):\n",
        "    return self.__age\n",
        "\n",
        "s = Student(\"Balu\",20)\n",
        "print(s.name)     # prints the name\n",
        "\n",
        "try:\n",
        "  print(s.__age)    # will throw an attribute error, since age is a private attribute inside the class.\n",
        "except:\n",
        "  print(\"You cannot access age attribute!\")"
      ],
      "metadata": {
        "colab": {
          "base_uri": "https://localhost:8080/"
        },
        "id": "nRkUbOoYKjpP",
        "outputId": "653908ff-9686-46af-cb83-23d827a5a2b9"
      },
      "execution_count": null,
      "outputs": [
        {
          "output_type": "stream",
          "name": "stdout",
          "text": [
            "Balu\n",
            "You cannnot access age attribute!\n"
          ]
        }
      ]
    },
    {
      "cell_type": "markdown",
      "source": [
        "**Q5) What are dunder methods in Python?**"
      ],
      "metadata": {
        "id": "hrqe0KIlNfEn"
      }
    },
    {
      "cell_type": "markdown",
      "source": [
        "- Dunder methods are special methods in Python that starts and end with double underscores. They are also called magic methods. These are a set of predefined methods in Python that allow custom classes to interact with Python's built-in operations and features, effectively extending the language's core functionality to user defined objects. Using dunder methods we can achieve operator overloading, allowing you to define how standard operators behave when applied to instances of your customs classes. Python automatically calls magic methods as a response of certain operations, such as instantiation, indexing, attribute managing and much more."
      ],
      "metadata": {
        "id": "2_gpylM0PVQM"
      }
    },
    {
      "cell_type": "markdown",
      "source": [
        "**Q6) Explain the concept of inheritance in OOP?**"
      ],
      "metadata": {
        "id": "wW5DZKX2Ck1r"
      }
    },
    {
      "cell_type": "markdown",
      "source": [
        "- Inheritance in Object-Oriented Programming (OOP) is a mechanism where a sub class or child class is created based on the existing super class or the parent class, inheriting all the attributes and methods. This promotes code resusability and allows for creating a hierarchy of classes with shared functionality. The derived class or sub class will inherit all the functions of the super class and can have attributes and functions of its own. It helps to avoid rewriting the same code in multiple classes. If changes are made in the superclass, automatically it is reflected on the sub class."
      ],
      "metadata": {
        "id": "aRQ8BlcPEIkF"
      }
    },
    {
      "cell_type": "code",
      "source": [
        "# implementing inheritance\n",
        "\n",
        "# super class\n",
        "class Animal:\n",
        "  def __init__(self,name):\n",
        "    self.name=name\n",
        "\n",
        "  def make_sound(self):\n",
        "    return \"I can make a sound!\"\n",
        "\n",
        "# derived class\n",
        "class Dog(Animal):\n",
        "  def make_sound(self):\n",
        "    print(f\"Hello i am {self.name} and I bark!\")\n",
        "\n",
        "# derived class\n",
        "class Cat(Animal):\n",
        "  def make_sound(self):\n",
        "    print(f\"Hello i am {self.name}, my sound is meow!\")\n",
        "\n",
        "dog= Dog(\"Ginger\")\n",
        "cat= Cat(\"Julie\")\n",
        "\n",
        "dog.make_sound()\n",
        "cat.make_sound()"
      ],
      "metadata": {
        "colab": {
          "base_uri": "https://localhost:8080/"
        },
        "id": "cbRMBZuIFif4",
        "outputId": "b73c3810-0660-4fba-f803-35f1e076d16b"
      },
      "execution_count": null,
      "outputs": [
        {
          "output_type": "stream",
          "name": "stdout",
          "text": [
            "Hello i am Ginger and I bark!\n",
            "Hello i am Julie, my sound is meow!\n"
          ]
        }
      ]
    },
    {
      "cell_type": "markdown",
      "source": [
        "**Q7) What is polymorphism in OOP?**"
      ],
      "metadata": {
        "id": "XxaAUjy3GsCx"
      }
    },
    {
      "cell_type": "markdown",
      "source": [
        "- Polymorphism in OOP refers to the ability of an object to take many forms. It allows you to interact with objects of different classes using a single, unified interface. It enables a single function or method to operate on different data types or classes, providing flexibility and code reusability. Polymorphism means \"many forms\", it means that a variable, function, or object can represent multiple types of classes. Polymorphism is the Key concept of OOP. It is the ability of an object or references to take many forms in different instances. It implements the concept of function overloading, function overriding and virtual functions."
      ],
      "metadata": {
        "id": "yKj38rV8G2AP"
      }
    },
    {
      "cell_type": "code",
      "source": [
        "# implementing polymorphism using inheritance\n",
        "\n",
        "class Animal:\n",
        "    def speak(self):\n",
        "        return \"I have a sound!\"\n",
        "\n",
        "class Dog(Animal):\n",
        "    def speak(self):\n",
        "        return \"Bark!\"\n",
        "\n",
        "class Cat(Animal):\n",
        "    def speak(self):\n",
        "        return \"Meow!\"\n",
        "\n",
        "# Function demonstrating polymorphism\n",
        "def make_animal_speak(animal):\n",
        "    print(animal.speak())\n",
        "\n",
        "# Different objects\n",
        "a = Animal()\n",
        "d = Dog()\n",
        "c = Cat()\n",
        "\n",
        "make_animal_speak(a)  # Output: Some generic animal sound\n",
        "make_animal_speak(d)  # Output: Woof!\n",
        "make_animal_speak(c)  # output: Meow!"
      ],
      "metadata": {
        "colab": {
          "base_uri": "https://localhost:8080/"
        },
        "id": "WwGG8eUGKzQY",
        "outputId": "b65b5520-3138-4847-cc9a-b3385db6cdb9"
      },
      "execution_count": null,
      "outputs": [
        {
          "output_type": "stream",
          "name": "stdout",
          "text": [
            "I speak something\n",
            "Bark!\n",
            "Meow!\n"
          ]
        }
      ]
    },
    {
      "cell_type": "markdown",
      "source": [
        "**Q8) How is encapsulation achieved in Python?**"
      ],
      "metadata": {
        "id": "cHtWE0LgLk4e"
      }
    },
    {
      "cell_type": "markdown",
      "source": [
        "- In Python, encapsulation can be achieved through conventions, and it involves bundling of attributes and methods within a class and controlling access to them. Encapsulation is done in python by:\n",
        "  - A class inherently encapsulates its attributes and methods into a single unit.\n",
        "  - Attributes or methods prefixed with a single underscore are conventionally considered as \"protected\". This signals that these members are intended for internal use within the class and its subclasses, and should not be accessed directly from outside the class. But in python, they can be still accessed if desired.\n",
        "  - Attributes or methods prefixed with double underscores are considered as private. These members are harder to access from outside the class, effectively providing a stronger privacy.\n",
        "  - Python's @property decorator allows defining getter, setter and deleter methods for attributes, providing a controlled interface for accessing and modifying data. This is a recommended way to achieve encapsulation in python."
      ],
      "metadata": {
        "id": "BPGGTzlSMBwA"
      }
    },
    {
      "cell_type": "markdown",
      "source": [
        "**Q9) What is a constructor in Python?**"
      ],
      "metadata": {
        "id": "ZRhlmiCVQGiK"
      }
    },
    {
      "cell_type": "markdown",
      "source": [
        "- A constructor in Python is a special method used to initialize the newly created object of a class. It sets up the object with initial values when it's created. In Python, the constructor is the \"__init__()\" method. This functioned is automatically called when an object is created. This method can also accept parameters to customize object creation. If we dont define \"__init__()\", Python provides a default constructor."
      ],
      "metadata": {
        "id": "yW5hkpK6QQmj"
      }
    },
    {
      "cell_type": "code",
      "source": [
        "# example of constructor\n",
        "\n",
        "class Student():\n",
        "  def __init__(self,name,age):\n",
        "    self.name=name\n",
        "    self.age=age\n",
        "\n",
        "  def show_details(self):\n",
        "    return f\"My name is {self.name} and I am {self.age} years old.\"\n",
        "\n",
        "s1= Student(\"Balu\",26)  # __init__() is called here\n",
        "s1.show_details()"
      ],
      "metadata": {
        "colab": {
          "base_uri": "https://localhost:8080/",
          "height": 36
        },
        "id": "sLXttLm-RUEg",
        "outputId": "da1121a4-e0e1-415d-d973-bb847e323aa2"
      },
      "execution_count": null,
      "outputs": [
        {
          "output_type": "execute_result",
          "data": {
            "text/plain": [
              "'My name is Balu and I am 26 years old.'"
            ],
            "application/vnd.google.colaboratory.intrinsic+json": {
              "type": "string"
            }
          },
          "metadata": {},
          "execution_count": 5
        }
      ]
    },
    {
      "cell_type": "markdown",
      "source": [
        "**Q10) What are class and static methods in Python?**"
      ],
      "metadata": {
        "id": "qnzo3Xq6U2tu"
      }
    },
    {
      "cell_type": "markdown",
      "source": [
        "- Class Method: A class method is bound to the class and receives the class itself as its first argument, conventionally names cls. It can access and modify class-level attributes. Class methods are defines by using the @classmethod decorator. Class method can access and modify class-level data."
      ],
      "metadata": {
        "id": "qkJ4gUnzU9rx"
      }
    },
    {
      "cell_type": "code",
      "source": [
        "# Example\n",
        "\n",
        "class Student:\n",
        "  default_name=\"Rohit\"\n",
        "  def __init__(self,name):\n",
        "    self.name=name\n",
        "\n",
        "  @classmethod\n",
        "  def new_name(cls,name):\n",
        "    cls.default_name=name\n",
        "\n",
        "Student.new_name(\"Adarsh\")\n",
        "print(Student.default_name)"
      ],
      "metadata": {
        "colab": {
          "base_uri": "https://localhost:8080/"
        },
        "id": "_JrEasQAQ4fN",
        "outputId": "0c7a4f1f-4468-47c7-ee61-9a20061d8fc4"
      },
      "execution_count": null,
      "outputs": [
        {
          "output_type": "stream",
          "name": "stdout",
          "text": [
            "Adarsh\n"
          ]
        }
      ]
    },
    {
      "cell_type": "markdown",
      "source": [
        "- Static Method: A static method is not bound to the class or any instance of the class. It does not receive self or cls as its first argument. It cannot access or modify class-level attributes directly. They are regular functions that are logically grouped within the class that don't depend on the class's state or any specific instance. They are defined using the @staticmethod decorator."
      ],
      "metadata": {
        "id": "lKw_A9rtYAJ9"
      }
    },
    {
      "cell_type": "code",
      "source": [
        "# Example\n",
        "\n",
        "class Operation:\n",
        "  @staticmethod\n",
        "  def add(a,b):\n",
        "    return a+b\n",
        "\n",
        "  @staticmethod\n",
        "  def sub(a,b):\n",
        "    return a-b\n",
        "\n",
        "operation = Operation()\n",
        "print(\"Addition of two numbers:\",operation.add(5,3))\n",
        "print(\"Subtraction of two numbers:\",operation.sub(10,2))"
      ],
      "metadata": {
        "colab": {
          "base_uri": "https://localhost:8080/"
        },
        "id": "y_Uosi19aaa5",
        "outputId": "9361e895-a239-4b04-af4f-d4a75f8d2d75"
      },
      "execution_count": null,
      "outputs": [
        {
          "output_type": "stream",
          "name": "stdout",
          "text": [
            "Addition of two numbers: 8\n",
            "Subtraction of two numbers: 8\n"
          ]
        }
      ]
    },
    {
      "cell_type": "markdown",
      "source": [
        "**Q11) What is method overloading in Python?**"
      ],
      "metadata": {
        "id": "CxRDtnoAbAEe"
      }
    },
    {
      "cell_type": "markdown",
      "source": [
        "- Method overloading is a concept in OOP that allows a class to have multiple methods with the same name but different parameters. This enables a single method name to perform different operations based on the number or types of arguments passed to it. Unlike other programming languages, Python does not directly support method overloading. But if we define multiple methods with the same name within a class in Python, the later version will simply overwrite the earlier ones."
      ],
      "metadata": {
        "id": "RLOPNz5BbqwU"
      }
    },
    {
      "cell_type": "code",
      "source": [
        "# method overloading in Python\n",
        "\n",
        "class Calculator:\n",
        "    def add(self, a=0, b=0, c=0):\n",
        "        return a + b + c\n",
        "\n",
        "c = Calculator()\n",
        "print(c.add(2))           # Output: 2\n",
        "print(c.add(2, 3))        # Output: 5\n",
        "print(c.add(2, 3, 4))     # Output: 9"
      ],
      "metadata": {
        "colab": {
          "base_uri": "https://localhost:8080/"
        },
        "id": "kVQp302jckka",
        "outputId": "fc53ff8f-2464-472d-b66c-c2e6f6841020"
      },
      "execution_count": null,
      "outputs": [
        {
          "output_type": "stream",
          "name": "stdout",
          "text": [
            "2\n",
            "5\n",
            "9\n"
          ]
        }
      ]
    },
    {
      "cell_type": "markdown",
      "source": [
        "**Q12)  What is method overriding in OOP?**"
      ],
      "metadata": {
        "id": "heEsqGAieHg6"
      }
    },
    {
      "cell_type": "markdown",
      "source": [
        "- Method overriding is OOP allows a subclass or derived class to provide a specific implementation of a method that is already defined in its super class or parent class. This allows the subclass to extend the behavior of the inherited method, while maintaining the same method name and signature. The method name and parameters must be same. Method overriding helps achieve runtime polymorphism."
      ],
      "metadata": {
        "id": "EgqCYRIUehaY"
      }
    },
    {
      "cell_type": "code",
      "source": [
        "# method overriding in python\n",
        "\n",
        "class Animal:\n",
        "    def speak(self):\n",
        "        return \"I make a sound!\"\n",
        "\n",
        "class Dog(Animal):\n",
        "    def speak(self):  # Overriding the parent method\n",
        "        return \"Bark!\"\n",
        "\n",
        "class Cat(Animal):\n",
        "    def speak(self):  # Overriding the parent method\n",
        "        return \"Meow!\"\n",
        "\n",
        "a = Animal()\n",
        "d = Dog()\n",
        "c = Cat()\n",
        "\n",
        "print(a.speak())\n",
        "print(d.speak())\n",
        "print(c.speak())"
      ],
      "metadata": {
        "colab": {
          "base_uri": "https://localhost:8080/"
        },
        "id": "AgoC-FU7gWRx",
        "outputId": "ca68975f-7f84-4018-f56a-1376e2e06fd0"
      },
      "execution_count": null,
      "outputs": [
        {
          "output_type": "stream",
          "name": "stdout",
          "text": [
            "I make a sound!\n",
            "Bark!\n",
            "Meow!\n"
          ]
        }
      ]
    },
    {
      "cell_type": "markdown",
      "source": [
        "**Q13) What is a property decorator in Python?**"
      ],
      "metadata": {
        "id": "Kc2UNGfwgyax"
      }
    },
    {
      "cell_type": "markdown",
      "source": [
        "- A property decorator in Python, denoted by @property, is a built-in decorator that allows methods within a class to be accessed and manipulated like attributes, while still providing the underlying logic of a function. The @property decorator in Python is used to turn a method into a \"read-only\" attribute. It allows you to access methods like attributes while hiding the internal implementation logic, a powerful feature for encapsulation and data validation.\n",
        "Key functionalities of the @property decorator:\n",
        "  - Getter: The @property decorator itself defines the \"getter\" method for an attribute. When you access the attribute, this method is automatically called, allowing you to control what value is returned.\n",
        "  - Setter: To enable setting the attribute's value, you use the @attribute_name.setter decorator. This decorator defines a method that is automatically called when you assign a new value to the attribute, allowing for validation or other operations.\n",
        "  - Deleter: Similarly, the @attribute_name.deleter decorator defines a method called when the attribute is deleted using the del keyword."
      ],
      "metadata": {
        "id": "qxmPV8I7krBm"
      }
    },
    {
      "cell_type": "code",
      "source": [
        "# implementation of property decorators\n",
        "\n",
        "class Employee:\n",
        "    def __init__(self,name,location):\n",
        "      self.__name=name\n",
        "      self.__location=location\n",
        "\n",
        "    @property\n",
        "    def name(self):\n",
        "      return self.__name\n",
        "\n",
        "    @property\n",
        "    def location(self):\n",
        "      return self.__location\n",
        "\n",
        "    @name.setter\n",
        "    def name(self,name):\n",
        "      self.__name=name\n",
        "\n",
        "    @location.setter\n",
        "    def location(self,location):\n",
        "      self.__location=location\n",
        "\n",
        "    @name.deleter\n",
        "    def name(self):\n",
        "      del self.__name\n",
        "\n",
        "    @location.deleter\n",
        "    def location(self):\n",
        "      del self.__location\n",
        "\n",
        "e = Employee(\"Balu\",\"New Delhi\")\n",
        "\n",
        "print(e.name,e.location)\n",
        "\n",
        "e.name=\"Adarsh\"    # name setter is called\n",
        "e.location=\"Mumbai\"  # location setter is called\n",
        "\n",
        "print(e.name,e.location)\n",
        "\n",
        "del e.name         # name deleted, name deleter will be called\n",
        "del e.location     # location deleted, location deleter will be called"
      ],
      "metadata": {
        "colab": {
          "base_uri": "https://localhost:8080/"
        },
        "id": "w5kFYPiOx8zy",
        "outputId": "bd80d142-a716-4784-e55b-8dddb588c9af"
      },
      "execution_count": null,
      "outputs": [
        {
          "output_type": "stream",
          "name": "stdout",
          "text": [
            "Balu New Delhi\n",
            "Adarsh Mumbai\n"
          ]
        }
      ]
    },
    {
      "cell_type": "markdown",
      "source": [
        "**Q14) Why is polymorphism important in OOP?**"
      ],
      "metadata": {
        "id": "7rPphWZw0pTN"
      }
    },
    {
      "cell_type": "markdown",
      "source": [
        "- Polymorphism is crucial in Object-Oriented Programming (OOP) because it enables one interface to represent multiple underlying objects. It allows objects of different classes to be treated as if they are of the same base class, especially when they share common behaviors. It enables code reusability, flexibility, and modularity, making it easier to write, maintain, and extend complex software systems. It allows objects of different classes to be treated as objects of a common type, promoting cleaner, more adaptable code.\n",
        "Here's why polymorphism is important:\n",
        "  - Code Reusability\n",
        "  - Flexibility and Extensibility\n",
        "  - Modularity and Maintainability\n",
        "  - Improved Code Readability"
      ],
      "metadata": {
        "id": "HVKzaghW02GP"
      }
    },
    {
      "cell_type": "markdown",
      "source": [
        "**Q15) What is an abstract class in Python?**"
      ],
      "metadata": {
        "id": "5pkLGOmt1PU0"
      }
    },
    {
      "cell_type": "markdown",
      "source": [
        "- An abstract class in Python is a class that cannot be instantiated directly, i.e objects cannot be created for this particular class. It is designed to be a blueprint for other classes. Python provides the abc module (Abstract Base Classes) to define abstract classes. It is designed to be inherited by other classes, which then provide concrete implementations for its abstract methods.Abstract methods are declared within the abstract class using the @abstractmethod decorator, but they do not have an implementation.\n",
        "For example:"
      ],
      "metadata": {
        "id": "N9GYDBES111J"
      }
    },
    {
      "cell_type": "code",
      "source": [
        "# abstract class in python\n",
        "\n",
        "from abc import ABC,abstractmethod\n",
        "\n",
        "class Shape(ABC):   # abstract class with abstract method area() and perimeter()\n",
        "  @abstractmethod\n",
        "  def area(self):\n",
        "    pass\n",
        "\n",
        "  @abstractmethod\n",
        "  def perimeter(self):\n",
        "    pass\n",
        "\n",
        "class Rectangle(Shape):\n",
        "  def __init__(self,l,b):\n",
        "    self.l=l\n",
        "    self.b=b\n",
        "\n",
        "  def area(self):\n",
        "    return f\"Area is:{self.l*self.b}\"\n",
        "\n",
        "  def perimeter(self):\n",
        "    return f\"Perimeter is:{2*((self.l+self.b))}\"\n",
        "\n",
        "rect = Rectangle(20,10)\n",
        "print(rect.area())\n",
        "print(rect.perimeter())"
      ],
      "metadata": {
        "colab": {
          "base_uri": "https://localhost:8080/"
        },
        "id": "bIFKT3MC2S3r",
        "outputId": "adf9958d-b620-4a55-9592-252b82fe692c"
      },
      "execution_count": null,
      "outputs": [
        {
          "output_type": "stream",
          "name": "stdout",
          "text": [
            "Area is:200\n",
            "Perimeter is:60\n"
          ]
        }
      ]
    },
    {
      "cell_type": "markdown",
      "source": [
        "**Q16) What are the advantages of OOP?**"
      ],
      "metadata": {
        "id": "r3WyDimG3bG-"
      }
    },
    {
      "cell_type": "markdown",
      "source": [
        "- Object-Oriented Programming (OOP) is a programming paradigm based on the concept of \"objects\", which combine attributes and methods into a single unit. OOP offers several powerful advantages for building complex, modular, and maintainable software. OOP promotes modularity through encapsulation, allowing for easier code management and modification. It also enables code reuse via inheritance and polymorphism, reducing development time and effort. Furthermore, OOP simplifies complex systems and facilitates easier troubleshooting due to its structured approach.\n",
        "Advantages of OOP are:\n",
        "  - Data Hiding using Encapsulation\n",
        "  - Polymorphism\n",
        "  - Abstraction\n",
        "  - Reusability through Inheritance\n",
        "  - Code Maintenance\n",
        "  - Better Problem Solving"
      ],
      "metadata": {
        "id": "1Lxw3msC3m3l"
      }
    },
    {
      "cell_type": "markdown",
      "source": [
        "**Q17) What is the difference between a class variable and an instance variable?**"
      ],
      "metadata": {
        "id": "hTpTBmuw4qcd"
      }
    },
    {
      "cell_type": "markdown",
      "source": [
        "- Class variables and instance variables differ in their scope and how they are shared among class instances. Class variables are associated with the class itself and are shared by all instances of that class, while instance variables are specific to each individual object of the class."
      ],
      "metadata": {
        "id": "GRZBRoAD6xZ0"
      }
    },
    {
      "cell_type": "code",
      "source": [
        "# class variable and instance variable demonstration\n",
        "\n",
        "class Shape():\n",
        "  length=10  # class variable\n",
        "  breadth=20  # class variable\n",
        "\n",
        "  def __init__(self,l,b):\n",
        "    self.l=l   # instance variable\n",
        "    self.b=b   # instance variable\n",
        "\n",
        "s = Shape(15,25)\n",
        "print(\"Default length and breadth:\",s.length,\"and\",s.breadth)\n",
        "print(\"Updated length and breadth:\",s.l,\"and\",s.b)"
      ],
      "metadata": {
        "colab": {
          "base_uri": "https://localhost:8080/"
        },
        "id": "n7kNjqz97AoY",
        "outputId": "c2b1e11e-6619-4bba-a341-04730a5e71ee"
      },
      "execution_count": null,
      "outputs": [
        {
          "output_type": "stream",
          "name": "stdout",
          "text": [
            "Default length and breadth: 10 and 20\n",
            "Updated length and breadth: 15 and 25\n"
          ]
        }
      ]
    },
    {
      "cell_type": "markdown",
      "source": [
        "**Q18) What is multiple inheritance in Python?**"
      ],
      "metadata": {
        "id": "oG0yJLtg8XE5"
      }
    },
    {
      "cell_type": "markdown",
      "source": [
        "- Multiple inheritance is a feature in object-oriented programming where a child class inherits from more than one parent class. Python supports multiple inheritance, allowing a class to combine behaviors and attributes from multiple classes. This means a single child class can combine the attributes and methods of multiple distinct parent classes. Multiple inheritance can be used to model complex relationships where a class logically combines functionalities from different sources, promoting code reuse and potentially reducing development time."
      ],
      "metadata": {
        "id": "KE1tNsUe86lx"
      }
    },
    {
      "cell_type": "code",
      "source": [
        "# Multiple inheritance\n",
        "\n",
        "class Parent1:\n",
        "    def greet(self):\n",
        "        print(\"Hello from Parent1\")\n",
        "\n",
        "class Parent2:\n",
        "    def welcome(self):\n",
        "        print(\"Welcome from Parent2\")\n",
        "\n",
        "class Child(Parent1, Parent2):\n",
        "    pass\n",
        "\n",
        "c = Child()\n",
        "c.greet()\n",
        "c.welcome()"
      ],
      "metadata": {
        "colab": {
          "base_uri": "https://localhost:8080/"
        },
        "id": "ReVlKsdR9VJD",
        "outputId": "9ee6511a-d432-48ec-c549-0ef008f1b58f"
      },
      "execution_count": null,
      "outputs": [
        {
          "output_type": "stream",
          "name": "stdout",
          "text": [
            "Hello from Parent1\n",
            "Welcome from Parent2\n"
          ]
        }
      ]
    },
    {
      "cell_type": "markdown",
      "source": [
        "**Q19) Explain the purpose of \"__str__()\"and \"__repr__()\" methods in Python?**"
      ],
      "metadata": {
        "id": "BYT4w9Im9sVg"
      }
    },
    {
      "cell_type": "markdown",
      "source": [
        "- In Python, both __str__() and __repr__() are special (dunder) methods used to define how objects are represented as strings. They are especially useful for debugging, logging, and displaying object data.\n",
        "  \n",
        "  __str__() method:\n",
        "  - This method provides a user-friendlyor human-readable string representation of an object.\n",
        "  - It is intended for display to end-users and is typically invoked by functions like print() and str().\n",
        "  - The goal is to provide a concise and understandable summary of the object's state, even if it means omitting some technical details.\n",
        "\n",
        "  __repr__() method:\n",
        "  - This method provides a developer-friendly or unambiguous string representation of an object.\n",
        "  - It is intended for developers and debugging purposes, often aiming to produce a string that, if evaluated by eval(), could recreate the object (though this isn't always strictly possible or practical).\n",
        "  - It is typically invoked by the repr() function and is used when you inspect an object in an interactive Python shell or debugger.\n"
      ],
      "metadata": {
        "id": "t_LFD36N-QJz"
      }
    },
    {
      "cell_type": "markdown",
      "source": [
        "**Q20) What is the significance of the ‘super()’ function in Python?**"
      ],
      "metadata": {
        "id": "Hu4O0zmp_762"
      }
    },
    {
      "cell_type": "markdown",
      "source": [
        "- The super() function in Python is used to call a method from the parent (superclass) inside a child (subclass). It is most commonly used in inheritance to ensure that the parent class's behavior is extended, not replaced. It provides a way to access methods and properties of a parent class from a child class within an inheritance hierarchy. Its significance lies in enabling proper object-oriented programming practices, particularly in scenarios involving inheritance and method overriding. It's typically used to call the parent class’s constructor and reuse code from parent class methods."
      ],
      "metadata": {
        "id": "V1q5XEzDAK5e"
      }
    },
    {
      "cell_type": "markdown",
      "source": [
        "**Q21) What is the significance of the __del__() method in Python?**"
      ],
      "metadata": {
        "id": "jozwQp3nCJ1d"
      }
    },
    {
      "cell_type": "markdown",
      "source": [
        "- __del__() method is called the destructor in Python. The most important use case for __del__() is to ensure that external resources acquired by an object are properly released when the object is no longer needed. This includes closing file handles, releasing network connections, freeing up memory allocated by C extensions, or releasing locks. It is basically used to clean up resources before an object is removed from memory, closing files or network connections, releasing system resources etc. It acts as a finalizer, executing code just before an object is truly removed from memory by the garbage collector. This allows for any necessary last-minute actions or state saving."
      ],
      "metadata": {
        "id": "2F4P973_C-sv"
      }
    },
    {
      "cell_type": "markdown",
      "source": [
        "Q22)  What is the difference between @staticmethod and @classmethod in Python?\n"
      ],
      "metadata": {
        "id": "kz0PgfllDhLl"
      }
    },
    {
      "cell_type": "markdown",
      "source": [
        "- @staticmethod:\n",
        "  - A static method does not take self or cls as the first argument.\n",
        "  - It behaves like a regular function, just namespaced inside a class.\n",
        "  - It does not have access to the instance (self) or the class (cls) and cannot modify class or instance state.\n",
        "  - When the method's logic is related to the class but does not need to access or modify class or instance data, then in that situation we can use static methods.\n",
        "- @classmethod:\n",
        "  - A class method takes cls (the class itself) as the first argument instead of self.\n",
        "  - It can access and modify the class state or call other class methods.\n",
        "  - It cannot access instance (self) variables directly unless passed in.\n",
        "  - When we need to create factory methods, or methods that modify the class state, class methods can be used."
      ],
      "metadata": {
        "id": "YppnyAjEDoAL"
      }
    },
    {
      "cell_type": "markdown",
      "source": [
        "**Q23) How does polymorphism work in Python with inheritance?**"
      ],
      "metadata": {
        "id": "szxS_lpY8g9O"
      }
    },
    {
      "cell_type": "markdown",
      "source": [
        "- Polymorphism in Python allows objects of different classes to be treated as objects of a common base class, especially when using inheritance. It enables the same method name to behave differently depending on the object that calls it.When a base class defines a method, and a derived class overrides it, Python uses the version of the method that corresponds to the actual object. This is runtime polymorphism.Inheritance-based polymorphism occurs when a subclass overrides a method from its parent class, providing a specific implementation. This process of re-implementing a method in the child class is known as Method Overriding."
      ],
      "metadata": {
        "id": "UPgm3VSA8uXK"
      }
    },
    {
      "cell_type": "code",
      "source": [
        "# polymorphism with inheritance\n",
        "\n",
        "class Animal:\n",
        "    def sound(self):\n",
        "        print(\"I may have 2 legs or 4 legs!\")\n",
        "\n",
        "class Dog(Animal):\n",
        "    def sound(self):\n",
        "        print(\"I am dog, and I have 4 legs!\")\n",
        "\n",
        "class Pigeon(Animal):\n",
        "    def sound(self):\n",
        "        print(\"I am Pigeon, and I have 2 legs!\")\n",
        "\n",
        "a = Animal()\n",
        "d = Dog()\n",
        "p = Pigeon()\n",
        "a.sound()\n",
        "d.sound()\n",
        "p.sound()"
      ],
      "metadata": {
        "colab": {
          "base_uri": "https://localhost:8080/"
        },
        "id": "AwSzB8FW9HMu",
        "outputId": "5f27c210-d020-4721-f7e7-ec653a605fea"
      },
      "execution_count": null,
      "outputs": [
        {
          "output_type": "stream",
          "name": "stdout",
          "text": [
            "I may have 2 legs or 4 legs!\n",
            "I am dog, and I have 4 legs!\n",
            "I am Pigeon, and I have 2 legs!\n"
          ]
        }
      ]
    },
    {
      "cell_type": "markdown",
      "source": [
        "**Q24) What is method chaining in Python OOP?**"
      ],
      "metadata": {
        "id": "jjIV1hzo-Aow"
      }
    },
    {
      "cell_type": "markdown",
      "source": [
        "- Method chaining is a programming technique where multiple methods are called on the same object in a single line, one after another. It is commonly used in object-oriented programming (OOP) to make code cleaner, more concise, and more fluent. It makes code more readable and concise by eliminating the need for intermediate variables to store the object at each step of a multi-step operation. It reduces boilerplate code by allowing transformations or operations on an object to be performed in a single, compact statement."
      ],
      "metadata": {
        "id": "hOtBwcq1-OGE"
      }
    },
    {
      "cell_type": "code",
      "source": [
        "# implementation of method chaining\n",
        "\n",
        "class Student:\n",
        "  def set_name(self,name):\n",
        "    self.name=name\n",
        "    return self\n",
        "\n",
        "  def set_location(self,location):\n",
        "    self.location=location\n",
        "    return self\n",
        "\n",
        "  def set_age(self,age):\n",
        "    self.age=age\n",
        "    return self\n",
        "\n",
        "  def display(self):\n",
        "    return f\"My name is {self.name}, I am {s.age} years old and I live in {s.location}\"\n",
        "\n",
        "s= Student()\n",
        "s.set_name(\"Balu\").set_age(26).set_location(\"New Delhi\").display()   # chaining multiple functions"
      ],
      "metadata": {
        "colab": {
          "base_uri": "https://localhost:8080/",
          "height": 36
        },
        "id": "NKya52Wa-cna",
        "outputId": "802ef2ed-5614-4ffe-cae5-45d63e9d669c"
      },
      "execution_count": null,
      "outputs": [
        {
          "output_type": "execute_result",
          "data": {
            "text/plain": [
              "'My name is Balu, I am 26 years old and I live in New Delhi'"
            ],
            "application/vnd.google.colaboratory.intrinsic+json": {
              "type": "string"
            }
          },
          "metadata": {},
          "execution_count": 5
        }
      ]
    },
    {
      "cell_type": "markdown",
      "source": [
        "**Q25) What is the purpose of the __call__() method in Python?**"
      ],
      "metadata": {
        "id": "n2kwFkhV_zwZ"
      }
    },
    {
      "cell_type": "markdown",
      "source": [
        "- The __call__() method in Python is a special \"dunder\" method that allows instances of a class to be treated and invoked like functions. When an object of a class that defines __call__() is called using parentheses, the __call__() method of that object is automatically executed.In Python, the __call__() method allows an instance of a class to be called like a function."
      ],
      "metadata": {
        "id": "blpeSaC2zmdy"
      }
    },
    {
      "cell_type": "code",
      "source": [
        "# implementation of __Call__() method\n",
        "\n",
        "class Student:\n",
        "  def __init__(self,name):\n",
        "    self.name=name\n",
        "\n",
        "  def __call__(self,message):\n",
        "    return f\"{message}, {self.name}\"\n",
        "\n",
        "s1= Student(\"Balu\")\n",
        "s1(\"Good morning\")  # object called like a function."
      ],
      "metadata": {
        "colab": {
          "base_uri": "https://localhost:8080/",
          "height": 36
        },
        "id": "Y-udsMRk0XeI",
        "outputId": "3f3b9ef4-7506-414a-d16b-4b3dc5cadf2c"
      },
      "execution_count": null,
      "outputs": [
        {
          "output_type": "execute_result",
          "data": {
            "text/plain": [
              "'Good morning, Balu'"
            ],
            "application/vnd.google.colaboratory.intrinsic+json": {
              "type": "string"
            }
          },
          "metadata": {},
          "execution_count": 3
        }
      ]
    },
    {
      "cell_type": "markdown",
      "source": [
        "# **Python OOPs Practical Questions**"
      ],
      "metadata": {
        "id": "026LwSy7OGPg"
      }
    },
    {
      "cell_type": "markdown",
      "source": [
        "**Q1) Create a parent class Animal with a method speak() that prints a generic message. Create a child class Dog\n",
        "that overrides the speak() method to print \"Bark!\".**"
      ],
      "metadata": {
        "id": "vX0TjSR2OdW3"
      }
    },
    {
      "cell_type": "code",
      "source": [
        "class Animal:\n",
        "  # parent class\n",
        "  def speak(self):\n",
        "    print(\"This animal makes a sound!\")\n",
        "\n",
        "class Dog(Animal):\n",
        "  '''\n",
        "  child class which overrides the speak() from the parent\n",
        "  '''\n",
        "  def speak(self):\n",
        "    print(\"Bark!\")\n",
        "\n",
        "animal= Animal()\n",
        "animal.speak()\n",
        "\n",
        "dog= Dog()\n",
        "dog.speak()"
      ],
      "metadata": {
        "colab": {
          "base_uri": "https://localhost:8080/"
        },
        "id": "GtJtK7ysOhPI",
        "outputId": "dccc6b3a-a9f5-4a30-e8b3-073b983cc741"
      },
      "execution_count": null,
      "outputs": [
        {
          "output_type": "stream",
          "name": "stdout",
          "text": [
            "This animal makes a sound!\n",
            "Bark!\n"
          ]
        }
      ]
    },
    {
      "cell_type": "markdown",
      "source": [
        "**Q2) Write a program to create an abstract class Shape with a method area(). Derive classes Circle and Rectangle\n",
        "from it and implement the area() method in both.**"
      ],
      "metadata": {
        "id": "sNKagbxlQaJv"
      }
    },
    {
      "cell_type": "code",
      "source": [
        "from abc import ABC,abstractmethod\n",
        "import math\n",
        "\n",
        "class Shape:\n",
        "  # abstract class with method area()\n",
        "  @abstractmethod\n",
        "  def area(self):\n",
        "    pass\n",
        "\n",
        "class Circle(Shape):\n",
        "  def __init__(self,radius):\n",
        "    self.radius=radius\n",
        "\n",
        "  def area(self):\n",
        "    return math.pi*self.radius*self.radius\n",
        "\n",
        "class Rectangle(Shape):\n",
        "  def __init__(self,length,breadth):\n",
        "    self.length=length\n",
        "    self.breadth=breadth\n",
        "\n",
        "  def area(self):\n",
        "    return self.length*self.breadth\n",
        "\n",
        "circle=Circle(7)\n",
        "print(\"Area of circle is:\",circle.area())\n",
        "\n",
        "rectangle=Rectangle(5,4)\n",
        "print(\"Area of rectangle is:\",rectangle.area())"
      ],
      "metadata": {
        "colab": {
          "base_uri": "https://localhost:8080/"
        },
        "id": "mguYMLb7QcoS",
        "outputId": "14cefac5-5cb6-4799-c8e0-46c3ec728103"
      },
      "execution_count": null,
      "outputs": [
        {
          "output_type": "stream",
          "name": "stdout",
          "text": [
            "Area of circle is: 153.93804002589985\n",
            "Area of rectangle is: 20\n"
          ]
        }
      ]
    },
    {
      "cell_type": "markdown",
      "source": [
        "**Q3) Implement a multi-level inheritance scenario where a class Vehicle has an attribute type. Derive a class Car\n",
        "and further derive a class ElectricCar that adds a battery attribute.**"
      ],
      "metadata": {
        "id": "-lsv-NbWS1Tk"
      }
    },
    {
      "cell_type": "code",
      "source": [
        "class Vehicle:\n",
        "  def __init__(self,type):\n",
        "    self.type=type\n",
        "\n",
        "  def show_type(self):\n",
        "    print(\"The vehicle type is\",self.type)\n",
        "\n",
        "class Car(Vehicle):\n",
        "  def __init__(self,type,brand):\n",
        "    super().__init__(type)\n",
        "    self.brand=brand\n",
        "\n",
        "  def show_brand(self):\n",
        "    print(f\"The Vehicle type and brand is {self.type} and {self.brand}\")\n",
        "\n",
        "class ElectricCar(Car):\n",
        "  def __init__(self,type,brand,battery):\n",
        "    super().__init__(type,brand)\n",
        "    self.battery=battery\n",
        "\n",
        "  def show_battery(self):\n",
        "    print(f\"The vehicle type and brand is {self.type} and {self.brand} and the battery capacity is {self.battery} Kwh\")\n",
        "\n",
        "electric=ElectricCar(\"Sedan\",\"Honda\",24000)\n",
        "\n",
        "electric.show_type()\n",
        "electric.show_brand()\n",
        "electric.show_battery()"
      ],
      "metadata": {
        "colab": {
          "base_uri": "https://localhost:8080/"
        },
        "id": "AIElv_e3S2Vs",
        "outputId": "9ddf462f-2f8e-4853-b515-f6b430d52d1d"
      },
      "execution_count": null,
      "outputs": [
        {
          "output_type": "stream",
          "name": "stdout",
          "text": [
            "The vehicle type is Sedan\n",
            "The Vehicle type and brand is Sedan and Honda\n",
            "The vehicle type and brand is Sedan and Honda and the battery capacity is 24000 Kwh\n"
          ]
        }
      ]
    },
    {
      "cell_type": "markdown",
      "source": [
        "**Q4) Demonstrate polymorphism by creating a base class Bird with a method fly(). Create two derived classes\n",
        "Sparrow and Penguin that override the fly() method.**"
      ],
      "metadata": {
        "id": "uZZF2hksYqxo"
      }
    },
    {
      "cell_type": "code",
      "source": [
        "class Bird:\n",
        "  def fly(self):\n",
        "    print(\"Hi, I am a Bird!\")\n",
        "\n",
        "class Sparrow(Bird):\n",
        "  def fly(self):\n",
        "    print(\"Hi, I am Sparrow and i can fly!\")\n",
        "\n",
        "class Penguin(Bird):\n",
        "  def fly(self):\n",
        "    print(\"Hi, I am Penguin and i cannot fly!\")\n",
        "\n",
        "sparrow=Sparrow()\n",
        "penguin=Penguin()\n",
        "\n",
        "sparrow.fly()\n",
        "penguin.fly()"
      ],
      "metadata": {
        "colab": {
          "base_uri": "https://localhost:8080/"
        },
        "id": "zvLh2uTfYvuG",
        "outputId": "8f44bfaf-84c1-439f-fe4d-e6a217b90dea"
      },
      "execution_count": 4,
      "outputs": [
        {
          "output_type": "stream",
          "name": "stdout",
          "text": [
            "Hi, I am Sparrow and i can fly!\n",
            "Hi, I am Penguin and i cannot fly!\n"
          ]
        }
      ]
    },
    {
      "cell_type": "markdown",
      "source": [
        "**Q5) Write a program to demonstrate encapsulation by creating a class BankAccount with private attributes\n",
        "balance and methods to deposit, withdraw, and check balance.**"
      ],
      "metadata": {
        "id": "0Ed4rWc3C6MX"
      }
    },
    {
      "cell_type": "code",
      "source": [
        "class BankAccount():\n",
        "  def __init__(self,initial_balance=0):\n",
        "    self.__initial_balance=initial_balance\n",
        "\n",
        "  def deposit(self,amount):\n",
        "    if amount>0:\n",
        "     self.__initial_balance+=amount\n",
        "     print(f\"Deposited : {amount}, Remaining Balance : {self.__initial_balance}\")\n",
        "    else:\n",
        "      print(\"Please enter valid amount!\")\n",
        "\n",
        "  def withdraw(self,amount):\n",
        "    if amount<self.__initial_balance:\n",
        "      self.__initial_balance-=amount\n",
        "      print(f\"Withdrawed : {amount}, Remaining Balance : {self.__initial_balance}\")\n",
        "    else:\n",
        "      print(f\"{amount} cannot be withdrawn!\")\n",
        "\n",
        "  def check_balance(self):\n",
        "    print(\"Balance:\",self.__initial_balance)\n",
        "\n",
        "bank= BankAccount(1000)\n",
        "bank.check_balance()\n",
        "bank.deposit(1500)\n",
        "bank.withdraw(1000)"
      ],
      "metadata": {
        "colab": {
          "base_uri": "https://localhost:8080/"
        },
        "id": "QkwdOsfTC_Mc",
        "outputId": "66b53d8f-0e2e-4877-f5f1-0b89ba9b91af"
      },
      "execution_count": 5,
      "outputs": [
        {
          "output_type": "stream",
          "name": "stdout",
          "text": [
            "Balance: 1000\n",
            "Deposited : 1500, Remaining Balance : 2500\n",
            "Withdrawed : 1000, Remaining Balance : 1500\n"
          ]
        }
      ]
    },
    {
      "cell_type": "markdown",
      "source": [
        "**Q6)Demonstrate runtime polymorphism using a method play() in a base class Instrument. Derive classes Guitar\n",
        "and Piano that implement their own version of play().**"
      ],
      "metadata": {
        "id": "HKsTuHWgTIal"
      }
    },
    {
      "cell_type": "code",
      "source": [
        "class Instrument:\n",
        "  def play(self):\n",
        "    print(\"You are playing an instrument!\")\n",
        "\n",
        "class Guitar(Instrument):\n",
        "  def play(self):\n",
        "    print(\"You are playing a Guitar!\")\n",
        "\n",
        "class Piano(Instrument):\n",
        "  def play(self):\n",
        "    print(\"You are playing a Piano!\")\n",
        "\n",
        "guitar=Guitar()\n",
        "guitar.play()\n",
        "\n",
        "piano=Piano()\n",
        "piano.play()"
      ],
      "metadata": {
        "id": "aYg76kyUTJbN",
        "colab": {
          "base_uri": "https://localhost:8080/"
        },
        "outputId": "3c71f734-a664-4d47-82af-5e9f23b2a2a5"
      },
      "execution_count": null,
      "outputs": [
        {
          "output_type": "stream",
          "name": "stdout",
          "text": [
            "You are playing a Guitar!\n",
            "You are playing a Piano!\n"
          ]
        }
      ]
    },
    {
      "cell_type": "markdown",
      "source": [
        "**Q7) Create a class MathOperations with a class method add_numbers() to add two numbers and a static\n",
        "method subtract_numbers() to subtract two numbers.**"
      ],
      "metadata": {
        "id": "ZFwKi1fWK0Rh"
      }
    },
    {
      "cell_type": "code",
      "source": [
        "class MathOperations:\n",
        "  @classmethod\n",
        "  def add_numbers(cls,num1,num2):\n",
        "    print(\"Sum is:\",num1+num2)\n",
        "\n",
        "  @staticmethod\n",
        "  def subtract_numbers(num1,num2):\n",
        "    print(\"Difference is:\",num1-num2)\n",
        "\n",
        "MathOperations.add_numbers(5,2)\n",
        "MathOperations.subtract_numbers(5,4)\n"
      ],
      "metadata": {
        "colab": {
          "base_uri": "https://localhost:8080/"
        },
        "id": "S20zEjWPK45t",
        "outputId": "50cf4e93-4b94-4957-dfc0-fc344d2d9fa2"
      },
      "execution_count": null,
      "outputs": [
        {
          "output_type": "stream",
          "name": "stdout",
          "text": [
            "Sum is: 7\n",
            "Difference is: 1\n"
          ]
        }
      ]
    },
    {
      "cell_type": "markdown",
      "source": [
        "**Q8)  Implement a class Person with a class method to count the total number of persons created.**"
      ],
      "metadata": {
        "id": "K0p-G0fzlOKX"
      }
    },
    {
      "cell_type": "code",
      "source": [
        "class Person:\n",
        "  count=0\n",
        "\n",
        "  def __init__(self,name):\n",
        "    self.name=name\n",
        "    Person.count+=1\n",
        "\n",
        "  @classmethod\n",
        "  def count_persons(cls):\n",
        "    return cls.count\n",
        "\n",
        "p1 = Person(\"Balu\")\n",
        "p2 = Person(\"Adarsh\")\n",
        "\n",
        "print(\"Total no of persons created:\",Person.count_persons())"
      ],
      "metadata": {
        "colab": {
          "base_uri": "https://localhost:8080/"
        },
        "id": "odye4mPrpPoj",
        "outputId": "9f0c0627-eb9c-47af-9aed-608d682d8ef0"
      },
      "execution_count": null,
      "outputs": [
        {
          "output_type": "stream",
          "name": "stdout",
          "text": [
            "Total no of persons created: 2\n"
          ]
        }
      ]
    },
    {
      "cell_type": "markdown",
      "source": [
        "**Q9)Write a class Fraction with attributes numerator and denominator. Override the str method to display the\n",
        "fraction as \"numerator/denominator\".**"
      ],
      "metadata": {
        "id": "V75p3OZusA7R"
      }
    },
    {
      "cell_type": "code",
      "source": [
        "class Fraction:\n",
        "  def __init__(self,numerator,denominator):\n",
        "    self.numerator=numerator\n",
        "    self.denominator=denominator\n",
        "\n",
        "  def __str__(self):\n",
        "    return f\"{self.numerator}/{self.denominator}\"\n",
        "\n",
        "f1= Fraction(1,2)\n",
        "f2= Fraction(2,3)\n",
        "\n",
        "print(\"First fraction:\",f1)\n",
        "print(\"Second fraction:\",f2)"
      ],
      "metadata": {
        "colab": {
          "base_uri": "https://localhost:8080/"
        },
        "id": "eq4yxR-IsEs8",
        "outputId": "3326a5d2-3421-4cc2-ad4c-5b7580ce9c0f"
      },
      "execution_count": null,
      "outputs": [
        {
          "output_type": "stream",
          "name": "stdout",
          "text": [
            "First fraction: 1/2\n",
            "Second fraction: 2/3\n"
          ]
        }
      ]
    },
    {
      "cell_type": "markdown",
      "source": [
        "**Q10) Demonstrate operator overloading by creating a class Vector and overriding the add method to add two vectors.**"
      ],
      "metadata": {
        "id": "lZNa1VrEHjjb"
      }
    },
    {
      "cell_type": "code",
      "source": [
        "class Vector:\n",
        "  def __init__(self,a,b):\n",
        "    self.a=a\n",
        "    self.b=b\n",
        "\n",
        "  def __add__(self,other):\n",
        "    return Vector(self.a+other.a,self.b+other.b)\n",
        "\n",
        "  def __str__(self):\n",
        "    return f\"{self.a},{self.b}\"\n",
        "\n",
        "v1= Vector(5,6)\n",
        "v2= Vector(9,8)\n",
        "v3=v1+v2\n",
        "print(\"Result of adding two vectors:\",v3)"
      ],
      "metadata": {
        "colab": {
          "base_uri": "https://localhost:8080/"
        },
        "id": "-jxlZu2CHlW0",
        "outputId": "d3d19fa5-3d72-4b03-ddfe-2156dbf99534"
      },
      "execution_count": null,
      "outputs": [
        {
          "output_type": "stream",
          "name": "stdout",
          "text": [
            "Result of adding two vectors: 14,14\n"
          ]
        }
      ]
    },
    {
      "cell_type": "markdown",
      "source": [
        "**Q11) Create a class Person with attributes name and age. Add a method greet() that prints \"Hello, my name is {name} and I am {age} years old.\"**"
      ],
      "metadata": {
        "id": "7lck7XitI8G-"
      }
    },
    {
      "cell_type": "code",
      "source": [
        "class Person:\n",
        "  def __init__(self,name,age):\n",
        "    self.name=name\n",
        "    self.age=age\n",
        "\n",
        "  def greet(self):\n",
        "    print(f\"Hello, my name is {self.name} and I am {self.age} years old.\")\n",
        "\n",
        "p1= Person(\"Balu\",26)\n",
        "p1.greet()"
      ],
      "metadata": {
        "colab": {
          "base_uri": "https://localhost:8080/"
        },
        "id": "xWCQdeKsJAj7",
        "outputId": "4a5abfb1-461e-4b2a-a669-8540e79dd2e5"
      },
      "execution_count": null,
      "outputs": [
        {
          "output_type": "stream",
          "name": "stdout",
          "text": [
            "Hello, my name is Balu and I am 26 years old.\n"
          ]
        }
      ]
    },
    {
      "cell_type": "markdown",
      "source": [
        "**Q12) Implement a class Student with attributes name and grades. Create a method average_grade() to compute\n",
        "the average of the grades.**"
      ],
      "metadata": {
        "id": "1L1NmDcvLGzS"
      }
    },
    {
      "cell_type": "code",
      "source": [
        "class Student:\n",
        "  def __init__(self,name,grades):\n",
        "    self.name=name\n",
        "    self.grades=grades\n",
        "\n",
        "  def average_grade(self):\n",
        "    if len(self.grades)==0:\n",
        "      return 0\n",
        "    return sum(self.grades)/len(self.grades)\n",
        "\n",
        "s1 = Student(\"Balu\",[99,92,91,92,95])\n",
        "print(f\"The average grade scored by the student {s1.name} is :\",s1.average_grade())"
      ],
      "metadata": {
        "colab": {
          "base_uri": "https://localhost:8080/"
        },
        "id": "lvXG5ibELKl2",
        "outputId": "6b9ca272-8b9d-4ef1-a795-31018b9622b7"
      },
      "execution_count": null,
      "outputs": [
        {
          "output_type": "stream",
          "name": "stdout",
          "text": [
            "The average grade scored by the student Balu is : 93.8\n"
          ]
        }
      ]
    },
    {
      "cell_type": "markdown",
      "source": [
        "**Q13) Create a class Rectangle with methods set_dimensions() to set the dimensions and area() to calculate the area.**"
      ],
      "metadata": {
        "id": "SoeWCxQ2NscU"
      }
    },
    {
      "cell_type": "code",
      "source": [
        "class Rectangle:\n",
        "  def __init__(self):\n",
        "    self.length=0\n",
        "    self.breadth=0\n",
        "\n",
        "  def set_dimensions(self,length,breadth):\n",
        "    self.length=length\n",
        "    self.breadth=breadth\n",
        "\n",
        "  def area(self):\n",
        "    return self.length*self.breadth\n",
        "\n",
        "r = Rectangle()\n",
        "r.set_dimensions(10,20)\n",
        "print(\"Area of the rectangle with the given dimensions is:\",r.area())"
      ],
      "metadata": {
        "colab": {
          "base_uri": "https://localhost:8080/"
        },
        "id": "Afnzx-yJNvHg",
        "outputId": "3a8c8974-f4ab-4e1d-8c84-527f8011802d"
      },
      "execution_count": null,
      "outputs": [
        {
          "output_type": "stream",
          "name": "stdout",
          "text": [
            "Area of the rectangle with the given dimensions is: 200\n"
          ]
        }
      ]
    },
    {
      "cell_type": "markdown",
      "source": [
        "**Q14) Create a class Employee with a method calculate_salary() that computes the salary based on hours worked\n",
        "and hourly rate. Create a derived class Manager that adds a bonus to the salary.**"
      ],
      "metadata": {
        "id": "ew-Kt92-OsNw"
      }
    },
    {
      "cell_type": "code",
      "source": [
        "class Employee:\n",
        "    def __init__(self,hours_worked,hourly_rate):\n",
        "        self.hours_worked = hours_worked\n",
        "        self.hourly_rate = hourly_rate\n",
        "\n",
        "    def calculate_salary(self):\n",
        "        return self.hours_worked * self.hourly_rate\n",
        "\n",
        "class Manager(Employee):\n",
        "    def __init__(self,hours_worked,hourly_rate,bonus):\n",
        "        super().__init__(hours_worked, hourly_rate)\n",
        "        self.bonus = bonus\n",
        "\n",
        "    def calculate_salary(self):\n",
        "        base_salary = super().calculate_salary()\n",
        "        return base_salary + self.bonus\n",
        "\n",
        "emp = Employee(30, 200)\n",
        "print(\"Employee salary without bonus:\",emp.calculate_salary())\n",
        "\n",
        "mgr = Manager(30,200,1000)\n",
        "print(\"Employee salary with bonus:\",mgr.calculate_salary())\n"
      ],
      "metadata": {
        "colab": {
          "base_uri": "https://localhost:8080/"
        },
        "id": "j443-AaAOtui",
        "outputId": "e53f59ca-8fae-4044-edee-a529b25add38"
      },
      "execution_count": null,
      "outputs": [
        {
          "output_type": "stream",
          "name": "stdout",
          "text": [
            "Employee salary without bonus: 6000\n",
            "Employee salary with bonus: 7000\n"
          ]
        }
      ]
    },
    {
      "cell_type": "markdown",
      "source": [
        "**Q15) Create a class Product with attributes name, price, and quantity. Implement a method total_price() that\n",
        "calculates the total price of the product.**"
      ],
      "metadata": {
        "id": "3ww4ZYaDVeOG"
      }
    },
    {
      "cell_type": "code",
      "source": [
        "class Product:\n",
        "  def __init__(self,name,price,quantity):\n",
        "    self.name=name\n",
        "    self.price=price\n",
        "    self.quantity=quantity\n",
        "\n",
        "  def total_price(self):\n",
        "    print(f\"Your name is {self.name} and the total price is {self.price*self.quantity}\")\n",
        "\n",
        "p = Product(\"Balu\",100,56)\n",
        "p.total_price()"
      ],
      "metadata": {
        "id": "gxeIX4FM3akb",
        "colab": {
          "base_uri": "https://localhost:8080/"
        },
        "outputId": "9013f724-eb53-483f-bf95-707e1267ae30"
      },
      "execution_count": null,
      "outputs": [
        {
          "output_type": "stream",
          "name": "stdout",
          "text": [
            "Your name is Balu and the total price is 5600\n"
          ]
        }
      ]
    },
    {
      "cell_type": "markdown",
      "source": [
        "**Q16) Create a class Animal with an abstract method sound(). Create two derived classes Cow and Sheep that\n",
        "implement the sound() method.**"
      ],
      "metadata": {
        "id": "8TB8BjntWPlD"
      }
    },
    {
      "cell_type": "code",
      "source": [
        "from abc import ABC,abstractmethod\n",
        "\n",
        "class Animal:\n",
        "  @abstractmethod\n",
        "  def sound(self):\n",
        "    pass\n",
        "\n",
        "class Cow(Animal):\n",
        "  def sound(self):\n",
        "    return \"My sound is MOO!\"\n",
        "\n",
        "class Sheep(Animal):\n",
        "  def sound(self):\n",
        "    return \"My sound is MEEE!\"\n",
        "\n",
        "cow= Cow()\n",
        "sheep = Sheep()\n",
        "print(cow.sound())\n",
        "print(sheep.sound())"
      ],
      "metadata": {
        "colab": {
          "base_uri": "https://localhost:8080/"
        },
        "id": "hckoYSDlWHJe",
        "outputId": "dac5a4d5-6587-4a28-8042-60d99eabe568"
      },
      "execution_count": null,
      "outputs": [
        {
          "output_type": "stream",
          "name": "stdout",
          "text": [
            "My sound is MOO!\n",
            "My sound is MEEE!\n"
          ]
        }
      ]
    },
    {
      "cell_type": "markdown",
      "source": [
        "**Q17) Create a class Book with attributes title, author, and year_published. Add a method get_book_info() that\n",
        "returns a formatted string with the book's details.**"
      ],
      "metadata": {
        "id": "JKVdqJa1XZW0"
      }
    },
    {
      "cell_type": "code",
      "source": [
        "class Book:\n",
        "  def __init__(self,title,author,year_published):\n",
        "    self.title=title\n",
        "    self.author=author\n",
        "    self.year_published=year_published\n",
        "\n",
        "  def get_book_info(self):\n",
        "    return f\"The title of the book is {self.title}, authored by {self.author}, published in the year {self.year_published}.\"\n",
        "\n",
        "book = Book(\"Three Men in a boat\",\"Robert Frost\",2025)\n",
        "print(book.get_book_info())"
      ],
      "metadata": {
        "colab": {
          "base_uri": "https://localhost:8080/"
        },
        "id": "SqGlDJvtXbWn",
        "outputId": "8bb1fb25-1c2a-4961-e0ce-cb86777cf858"
      },
      "execution_count": null,
      "outputs": [
        {
          "output_type": "stream",
          "name": "stdout",
          "text": [
            "The title of the book is Three Men in a boat, authored by Robert Frost, published in the year 2025.\n"
          ]
        }
      ]
    },
    {
      "cell_type": "markdown",
      "source": [
        "**Q18) Create a class House with attributes address and price. Create a derived class Mansion that adds an\n",
        "attribute number_of_rooms.**"
      ],
      "metadata": {
        "id": "A5CU84DLNbKI"
      }
    },
    {
      "cell_type": "code",
      "source": [
        "class House:\n",
        "  def __init__(self,address,price):\n",
        "    self.address=address\n",
        "    self.price=price\n",
        "\n",
        "  def get_details(self):\n",
        "    return f\"The address is {self.address} and the price is {self.price}.\"\n",
        "\n",
        "class Mansion(House):\n",
        "  def __init__(self,address,price,number_of_rooms):\n",
        "    super().__init__(address,price)\n",
        "    self.number_of_rooms=number_of_rooms\n",
        "\n",
        "  def get_details(self):\n",
        "    return f\"The address is {self.address},the price is {self.price} and the number of rooms are {self.number_of_rooms}.\"\n",
        "\n",
        "mansion = Mansion(\"New Delhi\",30000,5)\n",
        "print(mansion.get_details())"
      ],
      "metadata": {
        "colab": {
          "base_uri": "https://localhost:8080/"
        },
        "id": "waUOShpKNe0D",
        "outputId": "8e89e8bd-ee8e-43a3-e493-0bf25e00b015"
      },
      "execution_count": null,
      "outputs": [
        {
          "output_type": "stream",
          "name": "stdout",
          "text": [
            "The address is New Delhi,the price is 30000 and the number of rooms are 5.\n"
          ]
        }
      ]
    }
  ]
}